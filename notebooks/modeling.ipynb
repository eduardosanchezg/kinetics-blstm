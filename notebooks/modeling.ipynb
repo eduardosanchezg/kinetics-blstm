{
 "cells": [
  {
   "cell_type": "code",
   "execution_count": 1,
   "metadata": {
    "tags": []
   },
   "outputs": [
    {
     "name": "stdout",
     "output_type": "stream",
     "text": [
      "/rwthfs/rz/cluster/home/pe432442/MRP2/venv/bin/python3\n",
      "/rwthfs/rz/cluster/home/pe432442/MRP2/kinetics-blstm/notebooks\n"
     ]
    }
   ],
   "source": [
    "import sys\n",
    "print(sys.executable)\n",
    "!pwd"
   ]
  },
  {
   "cell_type": "code",
   "execution_count": 2,
   "metadata": {},
   "outputs": [],
   "source": [
    "import sys\n",
    "sys.path.append('..')\n",
    "\n",
    "import tensorflow as tf\n",
    "from tensorflow.keras import layers"
   ]
  },
  {
   "cell_type": "code",
   "execution_count": 3,
   "metadata": {},
   "outputs": [],
   "source": [
    "from utils import PatientLoader\n",
    "from processing.signal import *\n",
    "import constants as const"
   ]
  },
  {
   "cell_type": "code",
   "execution_count": 4,
   "metadata": {},
   "outputs": [
    {
     "name": "stdout",
     "output_type": "stream",
     "text": [
      "Mon Jun 22 17:32:14 2020       \n",
      "+-----------------------------------------------------------------------------+\n",
      "| NVIDIA-SMI 440.44       Driver Version: 440.44       CUDA Version: 10.2     |\n",
      "|-------------------------------+----------------------+----------------------+\n",
      "| GPU  Name        Persistence-M| Bus-Id        Disp.A | Volatile Uncorr. ECC |\n",
      "| Fan  Temp  Perf  Pwr:Usage/Cap|         Memory-Usage | GPU-Util  Compute M. |\n",
      "|===============================+======================+======================|\n",
      "|   0  Tesla P100-SXM2...  Off  | 00000000:06:00.0 Off |                    0 |\n",
      "| N/A   38C    P0    43W / 300W |      0MiB / 16280MiB |      0%      Default |\n",
      "+-------------------------------+----------------------+----------------------+\n",
      "|   1  Tesla P100-SXM2...  Off  | 00000000:84:00.0 Off |                    0 |\n",
      "| N/A   42C    P0    38W / 300W |      0MiB / 16280MiB |      0%      Default |\n",
      "+-------------------------------+----------------------+----------------------+\n",
      "                                                                               \n",
      "+-----------------------------------------------------------------------------+\n",
      "| Processes:                                                       GPU Memory |\n",
      "|  GPU       PID   Type   Process name                             Usage      |\n",
      "|=============================================================================|\n",
      "|  No running processes found                                                 |\n",
      "+-----------------------------------------------------------------------------+\n"
     ]
    }
   ],
   "source": [
    "!nvidia-smi"
   ]
  },
  {
   "cell_type": "code",
   "execution_count": 5,
   "metadata": {},
   "outputs": [
    {
     "name": "stdout",
     "output_type": "stream",
     "text": [
      "nvcc: NVIDIA (R) Cuda compiler driver\n",
      "Copyright (c) 2005-2019 NVIDIA Corporation\n",
      "Built on Sun_Jul_28_19:07:16_PDT_2019\n",
      "Cuda compilation tools, release 10.1, V10.1.243\n"
     ]
    }
   ],
   "source": [
    "!nvcc -V"
   ]
  },
  {
   "cell_type": "code",
   "execution_count": 5,
   "metadata": {
    "collapsed": true,
    "jupyter": {
     "outputs_hidden": true,
     "source_hidden": true
    },
    "tags": []
   },
   "outputs": [
    {
     "name": "stdout",
     "output_type": "stream",
     "text": [
      "(6, 30230) (14511116,)\n"
     ]
    }
   ],
   "source": [
    "pl = PatientLoader(1, data_dir=\"../data\")\n",
    "print(pl.get_features(\"metrics\").shape, pl.get_audio().shape)\n"
   ]
  },
  {
   "cell_type": "code",
   "execution_count": 6,
   "metadata": {
    "collapsed": true,
    "jupyter": {
     "outputs_hidden": true,
     "source_hidden": true
    }
   },
   "outputs": [
    {
     "data": {
      "text/plain": [
       "480.0236850810453"
      ]
     },
     "execution_count": 6,
     "metadata": {},
     "output_type": "execute_result"
    }
   ],
   "source": [
    "14511116 / 30230"
   ]
  },
  {
   "cell_type": "code",
   "execution_count": 76,
   "metadata": {
    "collapsed": true,
    "jupyter": {
     "outputs_hidden": true,
     "source_hidden": true
    }
   },
   "outputs": [
    {
     "data": {
      "text/html": [
       "\n",
       "                <audio  controls=\"controls\" >\n",
       "                    <source src=\"data:audio/wav;base64,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\" type=\"audio/wav\" />\n",
       "                    Your browser does not support the audio element.\n",
       "                </audio>\n",
       "              "
      ],
      "text/plain": [
       "<IPython.lib.display.Audio object>"
      ]
     },
     "execution_count": 76,
     "metadata": {},
     "output_type": "execute_result"
    }
   ],
   "source": [
    "import constants as c\n",
    "from pathlib import Path\n",
    "import librosa\n",
    "from IPython.display import Audio\n",
    "from processing.speech import extract_world_parameters\n",
    "# from processing.speech import world_reconstruct_audio\n",
    "from pyworld import wav2world\n",
    "from numpy import ascontiguousarray as ctg_array\n",
    "import pyworld as pw\n",
    "from scipy.io.wavfile import read\n",
    "from scipy.signal import decimate\n",
    "\n",
    "audios = Path(\".\"+c.BALDEY_AUDIO_DIR).rglob(\"*.wav\")\n",
    "a1, r = librosa.load(next(audios), sr=None)\n",
    "# r, a1 = read(next(audios))\n",
    "# a1 = a1 / 32767\n",
    "# a1 = np.r_[np.zeros_like(a1), a1, np.zeros_like(a1)]\n",
    "target_fs = 16000\n",
    "\n",
    "# downsampled = librosa.resample(a1, orig_sr=r, target_sr=target_fs)\n",
    "\n",
    "\n",
    "# Audio(downsampled, rate=r)\n",
    "\n",
    "pars = extract_world_parameters(a1, fs=r, frame_period=1,\n",
    "                                return_individual=True)\n",
    "# pars['encoded_ap'] = pars['encoded_ap'].reshape()\n",
    "rec = world_reconstruct_audio(fs=target_fs, frame_period=1, **pars)\n",
    "\n",
    "a1.shape, rec.shape\n",
    "\n",
    "Audio(rec, rate=target_fs)"
   ]
  },
  {
   "cell_type": "code",
   "execution_count": 47,
   "metadata": {
    "collapsed": true,
    "jupyter": {
     "outputs_hidden": true,
     "source_hidden": true
    }
   },
   "outputs": [
    {
     "data": {
      "text/plain": [
       "'../data/kh1_1_{}.npy'"
      ]
     },
     "execution_count": 47,
     "metadata": {},
     "output_type": "execute_result"
    }
   ],
   "source": [
    "pl.get_file_format()"
   ]
  },
  {
   "cell_type": "markdown",
   "metadata": {
    "jupyter": {
     "source_hidden": true
    }
   },
   "source": [
    "### Eduardo's model"
   ]
  },
  {
   "cell_type": "code",
   "execution_count": 10,
   "metadata": {
    "collapsed": true,
    "jupyter": {
     "outputs_hidden": true,
     "source_hidden": true
    }
   },
   "outputs": [
    {
     "name": "stdout",
     "output_type": "stream",
     "text": [
      "Loading data...\n",
      "Setting up band-pass filter from 70 - 1.7e+02 Hz\n",
      "\n",
      "IIR filter parameters\n",
      "---------------------\n",
      "Butterworth bandpass zero-phase (two-pass forward and reverse) non-causal filter:\n",
      "- Filter order 16 (effective, after forward-backward)\n",
      "- Cutoffs at 70.00, 170.00 Hz: -6.02, -6.02 dB\n",
      "\n",
      "Setting up band-stop filter from 98 - 1e+02 Hz\n",
      "\n",
      "IIR filter parameters\n",
      "---------------------\n",
      "Butterworth bandstop zero-phase (two-pass forward and reverse) non-causal filter:\n",
      "- Filter order 16 (effective, after forward-backward)\n",
      "- Cutoffs at 98.00, 102.00 Hz: -6.02, -6.02 dB\n",
      "\n",
      "Setting up band-stop filter from 1.5e+02 - 1.5e+02 Hz\n",
      "\n",
      "IIR filter parameters\n",
      "---------------------\n",
      "Butterworth bandstop zero-phase (two-pass forward and reverse) non-causal filter:\n",
      "- Filter order 16 (effective, after forward-backward)\n",
      "- Cutoffs at 148.00, 152.00 Hz: -6.02, -6.02 dB\n",
      "\n",
      "Setting up low-pass filter at 30 Hz\n",
      "\n",
      "IIR filter parameters\n",
      "---------------------\n",
      "Butterworth lowpass zero-phase (two-pass forward and reverse) non-causal filter:\n",
      "- Filter order 10 (effective, after forward-backward)\n",
      "- Cutoff at 30.00 Hz: -6.02 dB\n",
      "\n",
      "Loading data...\n"
     ]
    }
   ],
   "source": [
    "from sklearn.model_selection import train_test_split\n",
    "\n",
    "def split_with_overlap(data,window_size, window_overlap):\n",
    "    length = data.shape[0]\n",
    "    result = []\n",
    "    for i in range(0,length,window_size-window_overlap):\n",
    "        if length >= i + window_size:\n",
    "            result.append(data[i:i+window_size,:])\n",
    "    return result\n",
    "\n",
    "\n",
    "\n",
    "batch_size = 1000\n",
    "overlap_size = 200\n",
    "\n",
    "print('Loading data...')\n",
    "\n",
    "rawseeg = pl.get_seeg()\n",
    "data = detrend(rawseeg)\n",
    "hg = high_gamma(data, pl.seeg_fs)\n",
    "X_high_gamma = analytic_amp(hg)\n",
    "lp = low_component(rawseeg, pl.seeg_fs)\n",
    "X_low_component = analytic_amp(lp)\n",
    "\n",
    "\n",
    "batch_size = 1000\n",
    "overlap_size = 200\n",
    "\n",
    "print('Loading data...')\n",
    "\n",
    "Y = pl.get_features(\"metrics\")\n",
    "Y = Y.T\n",
    "X = np.hstack((X_high_gamma, X_low_component))\n",
    "X = X[:Y.shape[0], :]\n"
   ]
  },
  {
   "cell_type": "code",
   "execution_count": 14,
   "metadata": {
    "collapsed": true,
    "jupyter": {
     "outputs_hidden": true,
     "source_hidden": true
    }
   },
   "outputs": [
    {
     "data": {
      "text/plain": [
       "((309569, 107), (309569, 107), (309569, 107), (30230, 214), (30230, 6))"
      ]
     },
     "execution_count": 14,
     "metadata": {},
     "output_type": "execute_result"
    }
   ],
   "source": [
    "rawseeg.shape, data.shape, hg.shape, X.shape, Y.shape"
   ]
  },
  {
   "cell_type": "code",
   "execution_count": null,
   "metadata": {
    "jupyter": {
     "source_hidden": true
    }
   },
   "outputs": [],
   "source": [
    "\n",
    "num_features = X.shape[1]\n",
    "\n",
    "X = split_with_overlap(X,batch_size,overlap_size)\n",
    "Y = split_with_overlap(Y,batch_size,overlap_size)\n",
    "\n",
    "x_train, x_test, y_train, y_test = train_test_split(X, Y, test_size=0.25, random_state=42)\n",
    "\n",
    "y_train = np.array(y_train)\n",
    "y_test = np.array(y_test)\n",
    "x_train = np.array(x_train)\n",
    "x_test = np.array(x_test)\n",
    "\n",
    "print(f'X train shape: {x_train.shape}')\n",
    "print(f'Y train shape: {y_train.shape}')\n",
    "print(f'X test shape: {x_test.shape}')\n",
    "print(f'Y test shape: {y_test.shape}')\n",
    "\n",
    "Y = np.load('./data/kh4_1_metrics.npy')\n",
    "Y = Y.T\n",
    "X = np.hstack((X_high_gamma, X_low_component))\n",
    "X = X[:Y.shape[0], :]\n",
    "\n",
    "num_features = X.shape[1]\n",
    "\n",
    "X = split_with_overlap(X,batch_size,overlap_size)\n",
    "Y = split_with_overlap(Y,batch_size,overlap_size)\n",
    "\n",
    "x_train, x_test, y_train, y_test = train_test_split(X, Y, test_size=0.25, random_state=42)\n",
    "\n",
    "y_train = np.array(y_train)\n",
    "y_test = np.array(y_test)\n",
    "x_train = np.array(x_train)\n",
    "x_test = np.array(x_test)\n",
    "\n",
    "print(f'X train shape: {x_train.shape}')\n",
    "print(f'Y train shape: {y_train.shape}')\n",
    "print(f'X test shape: {x_test.shape}')\n",
    "print(f'Y test shape: {y_test.shape}')\n",
    "\n",
    "model = Sequential()\n",
    "model.add(Dense(6,input_shape=(batch_size,num_features)))\n",
    "model.add(Bidirectional(LSTM(3,return_sequences=True)))\n",
    "model.add(Dense(6))\n",
    "model.add(Dropout(0.1))\n",
    "model.add(Activation('softmax'))\n",
    "\n",
    "model.compile(optimizer='adam',loss='categorical_crossentropy', metrics=['accuracy',tf.keras.metrics.MeanSquaredError()])\n",
    "\n",
    "#model.fit(x_train, y_train,\n",
    "#          epochs=100,\n",
    "#          validation_data=(x_test, y_test))\n",
    "\n",
    "\n",
    "print(model.summary())\n"
   ]
  },
  {
   "cell_type": "markdown",
   "metadata": {},
   "source": [
    "### Anton's model"
   ]
  },
  {
   "cell_type": "code",
   "execution_count": 6,
   "metadata": {},
   "outputs": [],
   "source": [
    "def decoder_model(in_shape):\n",
    "    model = tf.keras.Sequential()\n",
    "    model.add(layers.Input(shape=in_shape))\n",
    "    model.add(layers.Dropout(0.25))\n",
    "    model.add(layers.Bidirectional(layers.LSTM(100, return_sequences=True)))\n",
    "    model.add(layers.Dropout(0.25))\n",
    "    model.add(layers.Bidirectional(layers.LSTM(100, return_sequences=True)))\n",
    "    model.add(layers.Dropout(0.25))\n",
    "    model.add(layers.Bidirectional(layers.LSTM(100)))\n",
    "    model.add(layers.Dropout(0.25))\n",
    "    model.add(layers.Dense(1))\n",
    "    opt = tf.keras.optimizers.Adam(learning_rate=0.001,\n",
    "                                   beta_1=0.9,\n",
    "                                   beta_2=0.999,\n",
    "                                   epsilon=1e-08)\n",
    "    model.compile(optimizer=opt, loss=\"mean_squared_error\")\n",
    "    return model"
   ]
  },
  {
   "cell_type": "markdown",
   "metadata": {},
   "source": [
    "#### Fit on patient 4"
   ]
  },
  {
   "cell_type": "code",
   "execution_count": 11,
   "metadata": {},
   "outputs": [],
   "source": [
    "loader = PatientLoader(4, data_dir='../data')\n",
    "art_features = loader.get_features('metrics_1k')\n",
    "gen_art_features = loader.get_features('gen_kinetics')\n",
    "world_10_params = loader.get_features(f'{const.WORLD_PARAM_NAME}_10')\n",
    "world_1_params = loader.get_features(f'{const.WORLD_PARAM_NAME}_1')"
   ]
  },
  {
   "cell_type": "code",
   "execution_count": 12,
   "metadata": {},
   "outputs": [
    {
     "data": {
      "text/plain": [
       "((6, 300300), (5561, 6), (30032, 516), (300315, 516), (307519, 133))"
      ]
     },
     "execution_count": 12,
     "metadata": {},
     "output_type": "execute_result"
    }
   ],
   "source": [
    "art_features.shape, \\\n",
    "gen_art_features.shape,\\\n",
    "world_10_params.shape, \\\n",
    "world_1_params.shape, \\\n",
    "loader.get_seeg().shape \\"
   ]
  },
  {
   "cell_type": "code",
   "execution_count": 19,
   "metadata": {},
   "outputs": [],
   "source": [
    "sequence_length = 60\n",
    "batch_size = 100\n",
    "shuffle_size = 10000"
   ]
  },
  {
   "cell_type": "code",
   "execution_count": 20,
   "metadata": {},
   "outputs": [],
   "source": [
    "def make_dataset(art_features,\n",
    "                 world_features,\n",
    "                 sequence_length,\n",
    "                 batch_size,\n",
    "                 shuffle_size=10000,\n",
    "                 step_size=1):\n",
    "    # Get the features to the same length\n",
    "    art_features = art_features.T\n",
    "    n = min(art_features.shape[0], world_features.shape[0])\n",
    "    art_features = art_features[:n, ...]\n",
    "    world_features = world_features[:n, ...]\n",
    "    X = []\n",
    "    y = []\n",
    "    for i in range(0, n - sequence_length, step_size):\n",
    "        X.append(art_features[i:(i + sequence_length), ...])\n",
    "        y.append(world_features[i + (sequence_length // 2)])\n",
    "    \n",
    "    dset = tf.data.Dataset.from_tensor_slices((X, y))\n",
    "    dset = dset.shuffle(shuffle_size).batch(batch_size)\n",
    "    return dset\n",
    "\n",
    "dataset = make_dataset(art_features,\n",
    "                       world_1_params,\n",
    "                       sequence_length=sequence_length,\n",
    "                       batch_size=batch_size,\n",
    "                       shuffle_size=shuffle_size)"
   ]
  },
  {
   "cell_type": "code",
   "execution_count": 35,
   "metadata": {},
   "outputs": [
    {
     "data": {
      "text/plain": [
       "(6, 300300)"
      ]
     },
     "execution_count": 35,
     "metadata": {},
     "output_type": "execute_result"
    }
   ],
   "source": [
    "art_features.shape"
   ]
  },
  {
   "cell_type": "code",
   "execution_count": 36,
   "metadata": {},
   "outputs": [
    {
     "name": "stdout",
     "output_type": "stream",
     "text": [
      "Model: \"sequential_2\"\n",
      "_________________________________________________________________\n",
      "Layer (type)                 Output Shape              Param #   \n",
      "=================================================================\n",
      "dropout_8 (Dropout)          (None, 60, 6)             0         \n",
      "_________________________________________________________________\n",
      "bidirectional_6 (Bidirection (None, 60, 200)           85600     \n",
      "_________________________________________________________________\n",
      "dropout_9 (Dropout)          (None, 60, 200)           0         \n",
      "_________________________________________________________________\n",
      "bidirectional_7 (Bidirection (None, 60, 200)           240800    \n",
      "_________________________________________________________________\n",
      "dropout_10 (Dropout)         (None, 60, 200)           0         \n",
      "_________________________________________________________________\n",
      "bidirectional_8 (Bidirection (None, 200)               240800    \n",
      "_________________________________________________________________\n",
      "dropout_11 (Dropout)         (None, 200)               0         \n",
      "_________________________________________________________________\n",
      "dense_2 (Dense)              (None, 1)                 201       \n",
      "=================================================================\n",
      "Total params: 567,401\n",
      "Trainable params: 567,401\n",
      "Non-trainable params: 0\n",
      "_________________________________________________________________\n"
     ]
    }
   ],
   "source": [
    "input_shape = (sequence_length, art_features.T.shape[1]) # (seq_length, 6)\n",
    "model = decoder_model(input_shape)\n",
    "model.summary()"
   ]
  },
  {
   "cell_type": "code",
   "execution_count": 39,
   "metadata": {},
   "outputs": [
    {
     "name": "stdout",
     "output_type": "stream",
     "text": [
      "Epoch 1/10\n",
      "3003/3003 [==============================] - 64s 21ms/step - loss: 16.6572\n",
      "Epoch 2/10\n",
      "3003/3003 [==============================] - 64s 21ms/step - loss: 16.6569\n",
      "Epoch 3/10\n",
      "3003/3003 [==============================] - 64s 21ms/step - loss: 16.6568\n",
      "Epoch 4/10\n",
      "3003/3003 [==============================] - 64s 21ms/step - loss: 16.6564\n",
      "Epoch 5/10\n",
      "3003/3003 [==============================] - 64s 21ms/step - loss: 16.6566\n",
      "Epoch 6/10\n",
      "3003/3003 [==============================] - 64s 21ms/step - loss: 16.6560\n",
      "Epoch 7/10\n",
      "3003/3003 [==============================] - 64s 21ms/step - loss: 16.6558\n",
      "Epoch 8/10\n",
      "3003/3003 [==============================] - 64s 21ms/step - loss: 16.6557\n",
      "Epoch 9/10\n",
      "3003/3003 [==============================] - 64s 21ms/step - loss: 16.6556\n",
      "Epoch 10/10\n",
      "3003/3003 [==============================] - 64s 21ms/step - loss: 16.6554\n"
     ]
    },
    {
     "data": {
      "text/plain": [
       "<tensorflow.python.keras.callbacks.History at 0x2b0caeee6f98>"
      ]
     },
     "execution_count": 39,
     "metadata": {},
     "output_type": "execute_result"
    }
   ],
   "source": [
    "model.fit(dataset, epochs=10)"
   ]
  },
  {
   "cell_type": "code",
   "execution_count": 13,
   "metadata": {},
   "outputs": [
    {
     "ename": "TypeError",
     "evalue": "list indices must be integers or slices, not list",
     "output_type": "error",
     "traceback": [
      "\u001b[0;31m---------------------------------------------------------------------------\u001b[0m",
      "\u001b[0;31mTypeError\u001b[0m                                 Traceback (most recent call last)",
      "\u001b[0;32m<ipython-input-13-c6b64e33dca6>\u001b[0m in \u001b[0;36m<module>\u001b[0;34m\u001b[0m\n\u001b[0;32m----> 1\u001b[0;31m \u001b[0mlist\u001b[0m\u001b[0;34m(\u001b[0m\u001b[0mrange\u001b[0m\u001b[0;34m(\u001b[0m\u001b[0;36m10\u001b[0m\u001b[0;34m)\u001b[0m\u001b[0;34m)\u001b[0m\u001b[0;34m[\u001b[0m\u001b[0mnp\u001b[0m\u001b[0;34m.\u001b[0m\u001b[0mrandom\u001b[0m\u001b[0;34m.\u001b[0m\u001b[0mpermutation\u001b[0m\u001b[0;34m(\u001b[0m\u001b[0;36m10\u001b[0m\u001b[0;34m)\u001b[0m\u001b[0;34m.\u001b[0m\u001b[0mtolist\u001b[0m\u001b[0;34m(\u001b[0m\u001b[0;34m)\u001b[0m\u001b[0;34m]\u001b[0m\u001b[0;34m\u001b[0m\u001b[0;34m\u001b[0m\u001b[0m\n\u001b[0m",
      "\u001b[0;31mTypeError\u001b[0m: list indices must be integers or slices, not list"
     ]
    }
   ],
   "source": [
    "list(range(10))[np.random.permutation(10).tolist()]"
   ]
  },
  {
   "cell_type": "code",
   "execution_count": 25,
   "metadata": {},
   "outputs": [
    {
     "name": "stdout",
     "output_type": "stream",
     "text": [
      "The tensorboard extension is already loaded. To reload it, use:\n",
      "  %reload_ext tensorboard\n"
     ]
    }
   ],
   "source": [
    "%load_ext tensorboard"
   ]
  },
  {
   "cell_type": "code",
   "execution_count": 27,
   "metadata": {},
   "outputs": [
    {
     "name": "stdout",
     "output_type": "stream",
     "text": [
      "             JOBID PARTITION     NAME     USER ST       TIME  NODES NODELIST(REASON)\n",
      "          14655040        ih mrp-jupy pe432442  R    2:35:22      1 lnih173\n"
     ]
    }
   ],
   "source": [
    "!squeue -u pe432442"
   ]
  }
 ],
 "metadata": {
  "kernelspec": {
   "display_name": "Python 3",
   "language": "python",
   "name": "python3"
  },
  "language_info": {
   "codemirror_mode": {
    "name": "ipython",
    "version": 3
   },
   "file_extension": ".py",
   "mimetype": "text/x-python",
   "name": "python",
   "nbconvert_exporter": "python",
   "pygments_lexer": "ipython3",
   "version": "3.6.8"
  }
 },
 "nbformat": 4,
 "nbformat_minor": 4
}
