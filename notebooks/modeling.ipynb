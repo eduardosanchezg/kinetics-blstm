{
 "cells": [
  {
   "cell_type": "code",
   "execution_count": 2,
   "metadata": {
    "tags": []
   },
   "outputs": [
    {
     "name": "stdout",
     "output_type": "stream",
     "text": [
      "/home/pe432442/MRP2/venv/bin/python\n",
      "/rwthfs/rz/cluster/home/pe432442/MRP2/kinetics-blstm/notebooks\n"
     ]
    }
   ],
   "source": [
    "import sys\n",
    "print(sys.executable)\n",
    "!pwd"
   ]
  },
  {
   "cell_type": "code",
   "execution_count": 3,
   "metadata": {},
   "outputs": [],
   "source": [
    "sys.path.append('..')\n",
    "\n",
    "import tensorflow as tf"
   ]
  },
  {
   "cell_type": "code",
   "execution_count": 4,
   "metadata": {},
   "outputs": [],
   "source": [
    "from utils import PatientLoader"
   ]
  },
  {
   "cell_type": "code",
   "execution_count": 5,
   "metadata": {
    "tags": []
   },
   "outputs": [
    {
     "name": "stdout",
     "output_type": "stream",
     "text": [
      "(6, 30230) (14511116,)\n"
     ]
    }
   ],
   "source": [
    "pl = PatientLoader(1, data_dir=\"../data\")\n",
    "print(pl.get_features(\"metrics\").shape, pl.get_audio().shape)\n"
   ]
  },
  {
   "cell_type": "code",
   "execution_count": 6,
   "metadata": {},
   "outputs": [
    {
     "data": {
      "text/plain": [
       "480.0236850810453"
      ]
     },
     "execution_count": 6,
     "metadata": {},
     "output_type": "execute_result"
    }
   ],
   "source": [
    "14511116 / 30230"
   ]
  },
  {
   "cell_type": "markdown",
   "metadata": {},
   "source": [
    "Define model"
   ]
  },
  {
   "cell_type": "code",
   "execution_count": null,
   "metadata": {},
   "outputs": [],
   "source": [
    "from tensorflow.keras import layers\n",
    "\n",
    "def decoder_model(in_shape):\n",
    "    model = tf.keras.Sequential()\n",
    "    model.add(layers.Input(shape=in_shape))\n",
    "    model.add(layers.Dropout(0.25)\n",
    "    model.add(layers.Bidirectional(layers.LSTM(100, return_sequences=True)))\n",
    "    model.add(layers.Dropout(0.25))\n",
    "    model.add(layers.Bidirectional(layers.LSTM(100, return_sequences=True)))\n",
    "    model.add(layers.Dropout(0.25))\n",
    "    model.add(layers.Bidirectional(layers.LSTM(100)))\n",
    "    model.add(layers.Dropout(0.25))\n",
    "    model.add(layers.Dense(1))\n",
    "    opt = tf.keras.optimizers.Adam(learning_rate=0.001,\n",
    "                                   beta_1=0.9,\n",
    "                                   beta_2=0.999,\n",
    "                                   epsilon=1e-08)\n",
    "    model.compile(optimizer=opt, loss=\"mean_squared_error\")\n",
    "    return model"
   ]
  }
 ],
 "metadata": {
  "kernelspec": {
   "display_name": "Python 3",
   "language": "python",
   "name": "python3"
  },
  "language_info": {
   "codemirror_mode": {
    "name": "ipython",
    "version": 3
   },
   "file_extension": ".py",
   "mimetype": "text/x-python",
   "name": "python",
   "nbconvert_exporter": "python",
   "pygments_lexer": "ipython3",
   "version": "3.6.8"
  }
 },
 "nbformat": 4,
 "nbformat_minor": 4
}
