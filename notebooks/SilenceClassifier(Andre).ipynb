{
 "cells": [
  {
   "cell_type": "code",
   "execution_count": 5,
   "metadata": {
    "colab": {},
    "colab_type": "code",
    "id": "MoPUTcZmBrn8"
   },
   "outputs": [],
   "source": [
    "# !pip install mne\n",
    "# !pip install PySurfer\n",
    "# !pip install Scikit-learn\n",
    "# !pip install llvmpy\n",
    "# !pip install cython\n",
    "# !pip install Numba\n",
    "# !pip install NiBabel\n",
    "# !pip install Pandas\n",
    "# !pip install DIPY\n",
    "# !pip install matplotlib\n",
    "# !pip install numpy\n",
    "# !pip install PyVista\n",
    "# !pip install pyriemann\n",
    "# !pip install tensorflow-gpu\n",
    "# !pip install Scipy\n",
    "# !pip install pyworld\n",
    "# !pip install librosa==0.7"
   ]
  },
  {
   "cell_type": "code",
   "execution_count": 1,
   "metadata": {
    "colab": {},
    "colab_type": "code",
    "id": "TUWjghXrBvAJ"
   },
   "outputs": [],
   "source": [
    "################ IMPORTS ################\n",
    "import numpy as np\n",
    "import matplotlib.pyplot as plt\n",
    "import os\n",
    "import h5py\n",
    "import sys\n",
    "import gc\n",
    "import time\n",
    "from scipy.signal import decimate\n",
    "from shutil import copyfile\n",
    "import tensorflow as tf\n",
    "import mne\n",
    "from shutil import copyfile\n",
    "import scipy\n",
    "from scipy.io.wavfile import write\n",
    "import librosa\n",
    "import librosa.display\n",
    "from mne.filter import filter_data\n",
    "from scipy.signal import decimate, hilbert\n",
    "from scipy import fftpack\n",
    "import scipy.io.wavfile as wavefile\n",
    "from sklearn.model_selection import train_test_split\n",
    "\n",
    "from tensorflow.keras.layers import *"
   ]
  },
  {
   "cell_type": "code",
   "execution_count": 65,
   "metadata": {
    "collapsed": false,
    "jupyter": {
     "outputs_hidden": false
    },
    "pycharm": {
     "name": "#%%\n"
    }
   },
   "outputs": [],
   "source": [
    "################ SETTING PARAMETERS ################\n",
    "window_size = 10  # ms\n",
    "input_shape = (window_size, 107, 1)  # window_size x n_sensors\n",
    "lrelu_a = 0.2\n",
    "brain_samp_freq = 1024\n",
    "audio_samp_freq = 48000\n",
    "audio_target_freq = 16000\n",
    "audio_to_brain_diff = audio_target_freq/brain_samp_freq"
   ]
  },
  {
   "cell_type": "code",
   "execution_count": 90,
   "metadata": {
    "collapsed": false,
    "jupyter": {
     "outputs_hidden": false
    },
    "pycharm": {
     "name": "#%%\n"
    }
   },
   "outputs": [],
   "source": [
    "################ READING DATA ################\n",
    "\n",
    "storage_dir = '../seeg_data/'\n",
    "extracted_features_dir = storage_dir+'extracted_features/'\n",
    "\n",
    "skip_seconds = 10\n",
    "take_seconds = skip_seconds + 3000\n",
    "\n",
    "#Reading data files\n",
    "data_original = np.load(storage_dir+\"kh1_1_sEEG.npy\")[brain_samp_freq*skip_seconds:brain_samp_freq*take_seconds] # Columns=channels, Rows=timesteps\n",
    "ch_names = np.load(storage_dir+\"kh1_1_channelNames.npy\")   # Names of channels\n",
    "audio = np.load(storage_dir+\"kh1_1_audio.npy\")[audio_samp_freq*skip_seconds:audio_samp_freq*take_seconds]   # Audio\n",
    "words = np.array(np.load(storage_dir+\"kh1_1_words.npy\"))[brain_samp_freq*skip_seconds:brain_samp_freq*take_seconds]# Words\n",
    "# activated_audio = np.load(extracted_features_dir+\"kh1_1_activated_audio.npy\")\n",
    "\n",
    "timesteps, n_channels = data_original.shape\n",
    "audio_resampled=librosa.core.resample(audio, audio_samp_freq, audio_target_freq)[:-15]\n",
    "\n"
   ]
  },
  {
   "cell_type": "code",
   "execution_count": 91,
   "metadata": {
    "colab": {
     "base_uri": "https://localhost:8080/",
     "height": 51
    },
    "colab_type": "code",
    "id": "WYIjNaitJhhA",
    "outputId": "b9fb2cef-4ae4-4dec-a288-5c9d36ccef50"
   },
   "outputs": [
    {
     "name": "stdout",
     "output_type": "stream",
     "text": [
      "4677024\n",
      "299329\n"
     ]
    }
   ],
   "source": [
    "################ PREPROCESS DATA ################\n",
    "activated_audio = (np.abs(audio_resampled) > 0.005)\n",
    "unique_words = list(set(words))\n",
    "\n",
    "# print(len(audio_resampled)/len(words))\n",
    "print(len(audio_resampled))\n",
    "print(len(words))\n",
    "# print(audio_resampled.max())\n",
    "\n",
    "current_word = ''\n",
    "word_start = audio_resampled.shape[0]\n",
    "word_end = -1\n",
    "for i in range(0, len(activated_audio) - 1, 1):\n",
    "  word_index = min(int(i/audio_to_brain_diff), words.shape[0] - 1)\n",
    "  if word_index > words.shape[0]:\n",
    "      print('exceeded')\n",
    "\n",
    "  corresponding_word = words[word_index]\n",
    "\n",
    "  if corresponding_word == '':\n",
    "      continue\n",
    "\n",
    "  if corresponding_word != current_word:\n",
    "    current_word = corresponding_word\n",
    "    for j in range(word_start, word_end):\n",
    "      activated_audio[word_start:word_end] = True\n",
    "    word_start = -1\n",
    "  else:\n",
    "    if activated_audio[i]:\n",
    "      if word_start == -1:\n",
    "        word_start = i\n",
    "      word_end = i\n",
    "\n",
    "if word_end > -1:\n",
    "  for j in range(word_start, word_end):\n",
    "      activated_audio[min(j, activated_audio.shape[0] - 1)] = True\n",
    "\n",
    "# print(word_start, word_end)\n",
    "\n",
    "# print(words)\n",
    "\n",
    "# (word_activation == False).any()"
   ]
  },
  {
   "cell_type": "code",
   "execution_count": 92,
   "metadata": {
    "collapsed": false,
    "jupyter": {
     "outputs_hidden": false
    },
    "pycharm": {
     "name": "#%%\n"
    }
   },
   "outputs": [
    {
     "data": {
      "image/png": "[encoded data removed]",
      "text/plain": [
       "<Figure size 432x288 with 3 Axes>"
      ]
     },
     "metadata": {
      "needs_background": "light"
     },
     "output_type": "display_data"
    }
   ],
   "source": [
    "################ VISUALISE AUDIO ################\n",
    "fig, (ax_wave, ax_activation, ax_word_activation) = plt.subplots(3)\n",
    "\n",
    "librosa.display.waveplot(audio_resampled, sr=audio_target_freq, ax=ax_wave)\n",
    "# ax_activation.imshow((np.array(words)!='').reshape(1, words.shape[0]), aspect='auto', cmap=plt.cm.gray, interpolation='nearest' )\n",
    "ax_activation.imshow(activated_audio.reshape(1, activated_audio.shape[0]), aspect='auto', cmap=plt.cm.gray, interpolation='nearest' )\n",
    "ax_word_activation.imshow((words != '').reshape(1, words.shape[0]), aspect='auto', cmap=plt.cm.gray, interpolation='nearest' )\n",
    "plt.show()"
   ]
  },
  {
   "cell_type": "code",
   "execution_count": 46,
   "metadata": {
    "collapsed": false,
    "jupyter": {
     "outputs_hidden": false
    },
    "pycharm": {
     "name": "#%%\n"
    }
   },
   "outputs": [],
   "source": [
    "################ SAVE AUDIO ################\n",
    "write(extracted_features_dir+'kh1_1_audio', audio_target_freq, audio_resampled)"
   ]
  },
  {
   "cell_type": "code",
   "execution_count": null,
   "metadata": {
    "collapsed": false,
    "jupyter": {
     "outputs_hidden": false
    },
    "pycharm": {
     "name": "#%%\n"
    }
   },
   "outputs": [],
   "source": [
    "################ SAVE ACTIVATED AUDIO ################\n",
    "np.save(extracted_features_dir+'kh1_1_activated_audio', activated_audio)\n"
   ]
  },
  {
   "cell_type": "code",
   "execution_count": 96,
   "metadata": {
    "colab": {
     "base_uri": "https://localhost:8080/",
     "height": 68
    },
    "colab_type": "code",
    "id": "MGN0LGMkKQ6c",
    "outputId": "1873ee88-779c-4d51-e887-fd1c741046db"
   },
   "outputs": [
    {
     "name": "stdout",
     "output_type": "stream",
     "text": [
      "[1 1 1 ... 0 0 0]\n",
      "(26938, 10, 107, 1)\n",
      "(26938,)\n"
     ]
    }
   ],
   "source": [
    "################ SPLIT DATA ################\n",
    "def extract_high_gamma(data, sr):\n",
    "    hilbert3 = lambda x: hilbert(x, fftpack.next_fast_len(len(x)),axis=0)[:len(x)]\n",
    "    #Linear detrend\n",
    "    data = scipy.signal.detrend(data,axis=0)\n",
    "    #Filtering\n",
    "    data = filter_data(data.T, sr, 70,170,method='iir').T\n",
    "    data = filter_data(data.T, sr, 102, 98,method='iir').T # Band-stop\n",
    "    data = filter_data(data.T, sr, 152, 148,method='iir').T\n",
    "    data = np.abs(hilbert3(data))\n",
    "    return data\n",
    "\n",
    "data_original_hg = data_original\n",
    "# data_original_hg = extract_high_gamma(data_original, brain_samp_freq)\n",
    "\n",
    "X = []\n",
    "Y = []\n",
    "\n",
    "ms_offset = 50\n",
    "window_size_ms = window_size/1000\n",
    "n_brain_samples = int(window_size_ms*brain_samp_freq)\n",
    "for i in range(0, data_original.shape[0], n_brain_samples):\n",
    "  y_index = min(int(i * audio_to_brain_diff + (audio_target_freq * (ms_offset / 1000))) , activated_audio.shape[0] -1)\n",
    "  x = data_original_hg[i:i+n_brain_samples]\n",
    "  y = activated_audio[y_index]\n",
    "  if x.shape != (n_brain_samples, 107):\n",
    "    continue\n",
    "  X.append(x.reshape(input_shape))\n",
    "  Y.append(int(y))\n",
    "\n",
    "X = np.array(X)\n",
    "Y = np.array(Y)\n",
    "\n",
    "print(Y)\n",
    "\n",
    "X_train, X_test, y_train, y_test = train_test_split(X, Y, test_size=0.10, random_state=42, shuffle=True)\n",
    "\n",
    "print(X_train.shape)\n",
    "print(y_train.shape)\n",
    "\n"
   ]
  },
  {
   "cell_type": "code",
   "execution_count": 97,
   "metadata": {
    "colab": {
     "base_uri": "https://localhost:8080/",
     "height": 663
    },
    "colab_type": "code",
    "id": "-6cMPUy0CV8Q",
    "outputId": "6eabbf25-0890-48d1-bd45-2c50e5e83cd4"
   },
   "outputs": [
    {
     "name": "stdout",
     "output_type": "stream",
     "text": [
      "Model: \"SilenceClassifier\"\n",
      "_________________________________________________________________\n",
      "Layer (type)                 Output Shape              Param #   \n",
      "=================================================================\n",
      "c_input (InputLayer)         [(None, 10, 107, 1)]      0         \n",
      "_________________________________________________________________\n",
      "C1 (Conv2D)                  (None, 10, 107, 512)      5120      \n",
      "_________________________________________________________________\n",
      "leaky_re_lu_28 (LeakyReLU)   (None, 10, 107, 512)      0         \n",
      "_________________________________________________________________\n",
      "batch_normalization_32 (Batc (None, 10, 107, 512)      2048      \n",
      "_________________________________________________________________\n",
      "C2 (Conv2D)                  (None, 10, 107, 256)      1179904   \n",
      "_________________________________________________________________\n",
      "leaky_re_lu_29 (LeakyReLU)   (None, 10, 107, 256)      0         \n",
      "_________________________________________________________________\n",
      "batch_normalization_33 (Batc (None, 10, 107, 256)      1024      \n",
      "_________________________________________________________________\n",
      "C3 (Conv2D)                  (None, 10, 107, 128)      295040    \n",
      "_________________________________________________________________\n",
      "leaky_re_lu_30 (LeakyReLU)   (None, 10, 107, 128)      0         \n",
      "_________________________________________________________________\n",
      "batch_normalization_34 (Batc (None, 10, 107, 128)      512       \n",
      "_________________________________________________________________\n",
      "C4 (Conv2D)                  (None, 9, 106, 64)        32832     \n",
      "_________________________________________________________________\n",
      "leaky_re_lu_31 (LeakyReLU)   (None, 9, 106, 64)        0         \n",
      "_________________________________________________________________\n",
      "batch_normalization_35 (Batc (None, 9, 106, 64)        256       \n",
      "_________________________________________________________________\n",
      "flatten_8 (Flatten)          (None, 61056)             0         \n",
      "_________________________________________________________________\n",
      "dense_16 (Dense)             (None, 128)               7815296   \n",
      "_________________________________________________________________\n",
      "dense_17 (Dense)             (None, 1)                 129       \n",
      "=================================================================\n",
      "Total params: 9,332,161\n",
      "Trainable params: 9,330,241\n",
      "Non-trainable params: 1,920\n",
      "_________________________________________________________________\n"
     ]
    }
   ],
   "source": [
    "################ CREATING MODEL ################\n",
    "def build_model():\n",
    "  m_input = Input(\n",
    "      shape=input_shape,\n",
    "      name='c_input'\n",
    "  )\n",
    "\n",
    "  C1 = Conv2D(\n",
    "      filters=512,\n",
    "      kernel_size=3,\n",
    "      strides=1,\n",
    "      padding='same',\n",
    "      name='C1'\n",
    "  )(m_input)\n",
    "\n",
    "  C1 = LeakyReLU(lrelu_a)(C1)\n",
    "  C1 = BatchNormalization()(C1)\n",
    "\n",
    "  C2 = Conv2D(\n",
    "      filters=256,\n",
    "      kernel_size=3,\n",
    "      strides=1,\n",
    "      padding='same',\n",
    "      name='C2'\n",
    "  )(C1)\n",
    "\n",
    "  C2 = LeakyReLU(lrelu_a)(C2)\n",
    "  C2 = BatchNormalization()(C2)\n",
    "\n",
    "  C3 = Conv2D(\n",
    "      filters=128,\n",
    "      kernel_size=3,\n",
    "      strides=1,\n",
    "      padding='same',\n",
    "      name='C3'\n",
    "  )(C2)\n",
    "\n",
    "  C3 = LeakyReLU(lrelu_a)(C3)\n",
    "  C3 = BatchNormalization()(C3)\n",
    "\n",
    "  C4 = Conv2D(\n",
    "      filters=64,\n",
    "      kernel_size=2,\n",
    "      strides=1,\n",
    "      padding='valid',\n",
    "      name='C4',\n",
    "  )(C3)\n",
    "\n",
    "  C4 = LeakyReLU(lrelu_a)(C4)\n",
    "  C4 = BatchNormalization()(C4)\n",
    "\n",
    "  C4 = Flatten()(C4)\n",
    "\n",
    "  D1 = Dense(128)(C4)\n",
    "\n",
    "  # D1 = LeakyReLU(lrelu_a)(D1)\n",
    "\n",
    "  D2 = Dense(1, activation='sigmoid')(D1)\n",
    "\n",
    "  return tf.keras.Model(inputs=m_input, outputs=D2, name='SilenceClassifier')\n",
    "\n",
    "model = build_model()  # Classifier\n",
    "\n",
    "model.summary()\n",
    "\n",
    "model.compile(\n",
    "    optimizer='adam',\n",
    "    loss=tf.keras.losses.binary_crossentropy,\n",
    "    metrics=['accuracy']\n",
    ")\n"
   ]
  },
  {
   "cell_type": "code",
   "execution_count": 95,
   "metadata": {
    "colab": {
     "base_uri": "https://localhost:8080/",
     "height": 394
    },
    "colab_type": "code",
    "id": "jECZq_veIIO5",
    "outputId": "48f2b4f7-31f3-4121-e218-84be794682e4"
   },
   "outputs": [
    {
     "name": "stdout",
     "output_type": "stream",
     "text": [
      "Epoch 1/10\n",
      "421/421 [==============================] - 25s 60ms/step - loss: 2.3109 - accuracy: 0.7399 - val_loss: 0.4260 - val_accuracy: 0.836\n",
      "Epoch 2/10\n",
      "421/421 [==============================] - 25s 60ms/step - loss: 0.3533 - accuracy: 0.8482 - val_loss: 0.2113 - val_accuracy: 0.91\n",
      "Epoch 3/10\n",
      "421/421 [==============================] - 26s 61ms/step - loss: 0.2938 - accuracy: 0.8734 - val_loss: 0.2974 - val_accuracy: 0.87\n",
      "Epoch 4/10\n",
      "421/421 [==============================] - 25s 60ms/step - loss: 0.2783 - accuracy: 0.8814 - val_loss: 0.3047 - val_accuracy: 0.882\n",
      "Epoch 5/10\n",
      "421/421 [==============================] - 25s 60ms/step - loss: 0.2729 - accuracy: 0.8822 - val_loss: 0.3896 - val_accuracy: 0.84\n",
      "Epoch 6/10\n",
      "421/421 [==============================] - 26s 61ms/step - loss: 0.2542 - accuracy: 0.8896 - val_loss: 0.3300 - val_accuracy: 0.87\n",
      "Epoch 7/10\n",
      "421/421 [==============================] - 26s 62ms/step - loss: 0.2561 - accuracy: 0.8913 - val_loss: 0.4435 - val_accuracy: 0.82\n",
      "Epoch 8/10\n",
      "421/421 [==============================] - 26s 62ms/step - loss: 0.2513 - accuracy: 0.8923 - val_loss: 0.2102 - val_accuracy: 0.918\n",
      "Epoch 9/10\n",
      "421/421 [==============================] - 26s 62ms/step - loss: 0.2471 - accuracy: 0.8938 - val_loss: 0.4816 - val_accuracy: 0.805\n",
      "Epoch 10/10\n",
      "421/421 [==============================] - 26s 61ms/step - loss: 0.2413 - accuracy: 0.8986 - val_loss: 0.4751 - val_accuracy: 0.818\n"
     ]
    },
    {
     "data": {
      "text/plain": [
       "<tensorflow.python.keras.callbacks.History at 0x7ff1d1e81820>"
      ]
     },
     "execution_count": 95,
     "metadata": {},
     "output_type": "execute_result"
    }
   ],
   "source": [
    "################ TRAINING ################\n",
    "unique, counts = np.unique(activated_audio, return_counts=True)\n",
    "dict(zip(unique, counts))\n",
    "neg_weight = (1/counts[0]) * (activated_audio.shape[0])/2.0\n",
    "pos_weight = (1/counts[1]) * (activated_audio.shape[0])/2.0\n",
    "\n",
    "model.fit(\n",
    "    X_train, y_train, epochs=10,\n",
    "    batch_size=64,\n",
    "    validation_data=(X_test, y_test),\n",
    "    class_weight={False: neg_weight, True: pos_weight},\n",
    ")\n"
   ]
  },
  {
   "cell_type": "code",
   "execution_count": null,
   "metadata": {
    "collapsed": false,
    "jupyter": {
     "outputs_hidden": false
    },
    "pycharm": {
     "name": "#%%\n"
    }
   },
   "outputs": [],
   "source": [
    "################ TEMP ################\n",
    "\n",
    "unique, counts = np.unique(activated_audio, return_counts=True)\n",
    "dict(zip(unique, counts))\n",
    "\n",
    "print((1/counts[0]) * (activated_audio.shape[0])/2.0)\n",
    "print((1/counts[1]) * (activated_audio.shape[0])/2.0)"
   ]
  }
 ],
 "metadata": {
  "colab": {
   "collapsed_sections": [],
   "name": "Classifier",
   "provenance": []
  },
  "kernelspec": {
   "display_name": "Python 3",
   "language": "python",
   "name": "python3"
  },
  "language_info": {
   "codemirror_mode": {
    "name": "ipython",
    "version": 3
   },
   "file_extension": ".py",
   "mimetype": "text/x-python",
   "name": "python",
   "nbconvert_exporter": "python",
   "pygments_lexer": "ipython3",
   "version": "3.6.8"
  }
 },
 "nbformat": 4,
 "nbformat_minor": 4
}
