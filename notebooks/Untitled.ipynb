{
 "cells": [
  {
   "cell_type": "code",
   "execution_count": 1,
   "metadata": {},
   "outputs": [],
   "source": [
    "import sys\n",
    "sys.path.append('..')\n",
    "import numpy as np\n",
    "import mne\n",
    "\n",
    "# from constants import SEEG_fs, AUDIO_fs\n",
    "from utils import PatientLoader\n"
   ]
  },
  {
   "cell_type": "code",
   "execution_count": 2,
   "metadata": {},
   "outputs": [
    {
     "name": "stdout",
     "output_type": "stream",
     "text": [
      "kh10_1_audio.npy\t kh2_2_words.npy\t kh6_1_sEEG.npy\n",
      "kh10_1_channelNames.npy  kh3_1_audio.npy\t kh6_1_words.npy\n",
      "kh10_1_noisyAudio.npy\t kh3_1_channelNames.npy  kh7_1_audio.npy\n",
      "kh10_1_sEEG.npy\t\t kh3_1_noisyAudio.npy\t kh7_1_channelNames.npy\n",
      "kh10_1_words.npy\t kh3_1_sEEG.npy\t\t kh7_1_noisyAudio.npy\n",
      "kh1_1_audio.npy\t\t kh3_1_words.npy\t kh7_1_sEEG.npy\n",
      "kh1_1_channelNames.npy\t kh4_1_audio.npy\t kh7_1_words.npy\n",
      "kh1_1_noisyAudio.npy\t kh4_1_channelNames.npy  kh8_1_audio.npy\n",
      "kh1_1_sEEG.npy\t\t kh4_1_noisyAudio.npy\t kh8_1_channelNames.npy\n",
      "kh1_1_words.npy\t\t kh4_1_sEEG.npy\t\t kh8_1_noisyAudio.npy\n",
      "kh2_1_audio.npy\t\t kh4_1_words.npy\t kh8_1_sEEG.npy\n",
      "kh2_1_channelNames.npy\t kh5_1_audio.npy\t kh8_1_words.npy\n",
      "kh2_1_noisyAudio.npy\t kh5_1_channelNames.npy  kh9_1_audio.npy\n",
      "kh2_1_sEEG.npy\t\t kh5_1_noisyAudio.npy\t kh9_1_channelNames.npy\n",
      "kh2_1_words.npy\t\t kh5_1_sEEG.npy\t\t kh9_1_noisyAudio.npy\n",
      "kh2_2_audio.npy\t\t kh5_1_words.npy\t kh9_1_sEEG.npy\n",
      "kh2_2_channelNames.npy\t kh6_1_audio.npy\t kh9_1_words.npy\n",
      "kh2_2_noisyAudio.npy\t kh6_1_channelNames.npy\n",
      "kh2_2_sEEG.npy\t\t kh6_1_noisyAudio.npy\n"
     ]
    }
   ],
   "source": [
    "!ls ../data"
   ]
  },
  {
   "cell_type": "code",
   "execution_count": 8,
   "metadata": {},
   "outputs": [
    {
     "data": {
      "text/plain": [
       "3"
      ]
     },
     "execution_count": 8,
     "metadata": {},
     "output_type": "execute_result"
    }
   ],
   "source": []
  },
  {
   "cell_type": "code",
   "execution_count": 10,
   "metadata": {},
   "outputs": [],
   "source": [
    "from scipy.signal import decimate\n",
    "import pyworld as pw\n",
    "\n",
    "fs = 48e3\n",
    "target_fs = 16e3\n",
    "frame_period = 10\n",
    "\n",
    "audio = PatientLoader(2, session=2, data_dir='../data').get_audio()\n",
    "downsampled = decimate(audio, int(fs / target_fs))\n",
    "downsampled = np.ascontiguousarray(downsampled, dtype=np.float64)\n",
    "\n",
    "f0, t = pw.harvest(x=downsampled,\n",
    "                   fs=target_fs,\n",
    "                   frame_period=frame_period)\n",
    "sp = pw.cheaptrick(x=downsampled,\n",
    "                   f0=f0,\n",
    "                   temporal_positions=t,\n",
    "                   fs=target_fs)\n",
    "ap = pw.d4c(x=audio,\n",
    "            f0=f0,\n",
    "            temporal_positions=t,\n",
    "            fs=target_fs)\n",
    "\n",
    "encoded_ap = pw.code_aperiodicity(aperiodicity=ap,\n",
    "                                  fs=target_fs)\n",
    "f0 = f0.reshape(-1, 1)\n",
    "vuv = (f0 > 0).astype(int)\n",
    "\n",
    "features = np.concatenate((sp, encoded_ap, f0, vuv), axis=1)"
   ]
  }
 ],
 "metadata": {
  "kernelspec": {
   "display_name": "Python 3",
   "language": "python",
   "name": "python3"
  },
  "language_info": {
   "codemirror_mode": {
    "name": "ipython",
    "version": 3
   },
   "file_extension": ".py",
   "mimetype": "text/x-python",
   "name": "python",
   "nbconvert_exporter": "python",
   "pygments_lexer": "ipython3",
   "version": "3.6.8"
  }
 },
 "nbformat": 4,
 "nbformat_minor": 4
}
